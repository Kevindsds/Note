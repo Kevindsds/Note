{
  "nbformat": 4,
  "nbformat_minor": 0,
  "metadata": {
    "colab": {
      "provenance": [],
      "collapsed_sections": [
        "4xBXnpJVOBv9",
        "bqEyx4QjOrmA",
        "9eMY6AVru16Q"
      ],
      "authorship_tag": "ABX9TyOlH5d9b4U1zpUoXC3UQfWk",
      "include_colab_link": true
    },
    "kernelspec": {
      "name": "python3",
      "display_name": "Python 3"
    },
    "language_info": {
      "name": "python"
    }
  },
  "cells": [
    {
      "cell_type": "markdown",
      "metadata": {
        "id": "view-in-github",
        "colab_type": "text"
      },
      "source": [
        "<a href=\"https://colab.research.google.com/github/Kevindsds/Note/blob/main/pytorch.ipynb\" target=\"_parent\"><img src=\"https://colab.research.google.com/assets/colab-badge.svg\" alt=\"Open In Colab\"/></a>"
      ]
    },
    {
      "cell_type": "markdown",
      "source": [
        "Note for learning Pytorch in https://www.learnpytorch.io"
      ],
      "metadata": {
        "id": "HeymS0ilNbn9"
      }
    },
    {
      "cell_type": "code",
      "source": [
        "import torch\n",
        "from torch import nn\n",
        "import matplotlib.pyplot as plt\n",
        "import numpy as np\n",
        "import random"
      ],
      "metadata": {
        "id": "l3pS8ysFQsRf"
      },
      "execution_count": null,
      "outputs": []
    },
    {
      "cell_type": "markdown",
      "source": [
        "# 00.Pytorch Fundamentals"
      ],
      "metadata": {
        "id": "4xBXnpJVOBv9"
      }
    },
    {
      "cell_type": "markdown",
      "source": [
        "Some note in this part is written in Notability(iPad)"
      ],
      "metadata": {
        "id": "HKrSBHq4OgaL"
      }
    },
    {
      "cell_type": "markdown",
      "source": [
        "## Reshaping, stacking, squeezing and unsqueezing"
      ],
      "metadata": {
        "id": "bqEyx4QjOrmA"
      }
    },
    {
      "cell_type": "code",
      "source": [
        "tensor = torch.rand(2, 3)\n",
        "tensor"
      ],
      "metadata": {
        "colab": {
          "base_uri": "https://localhost:8080/"
        },
        "id": "Ok40UhAxQj9S",
        "outputId": "d75cfaab-c7c6-49fa-dfd6-591ff932be61"
      },
      "execution_count": null,
      "outputs": [
        {
          "output_type": "execute_result",
          "data": {
            "text/plain": [
              "tensor([[0.6394, 0.6393, 0.9879],\n",
              "        [0.1512, 0.8564, 0.9425]])"
            ]
          },
          "metadata": {},
          "execution_count": 6
        }
      ]
    },
    {
      "cell_type": "markdown",
      "source": [
        "1. torch.reshape(input, shape) \\\n",
        "Explain: For a existing tensor, we can change the shape of it. Don't change the elements of it. And the new shape must be available for the tensor."
      ],
      "metadata": {
        "id": "o20L6m6GPkcu"
      }
    },
    {
      "cell_type": "code",
      "source": [
        "tensor_1 = tensor.reshape(1, 6)\n",
        "tensor_2 = tensor.reshape(3, 2)\n",
        "tensor_1\n",
        "tensor_2"
      ],
      "metadata": {
        "colab": {
          "base_uri": "https://localhost:8080/"
        },
        "id": "jOO_HIaQRJRN",
        "outputId": "b4c8e76b-df29-410c-9983-f8263a8d36ff"
      },
      "execution_count": null,
      "outputs": [
        {
          "output_type": "execute_result",
          "data": {
            "text/plain": [
              "tensor([[0.6394, 0.6393, 0.9879, 0.1512, 0.8564, 0.9425]])"
            ]
          },
          "metadata": {},
          "execution_count": 10
        }
      ]
    },
    {
      "cell_type": "markdown",
      "source": [
        "2. torch.Tensor.view(shape) \\\n",
        "Explain: The function of it is almost the same as torch.reshape. The difference of them is that change the value of the elements in it also change the value of the original tensor."
      ],
      "metadata": {
        "id": "fn1uf5WfZuCh"
      }
    },
    {
      "cell_type": "code",
      "source": [
        "tensor_3 = tensor.view(1, 3, 2)\n",
        "print(tensor_3)\n"
      ],
      "metadata": {
        "colab": {
          "base_uri": "https://localhost:8080/"
        },
        "id": "ngTzuGkYTRBi",
        "outputId": "a27623b2-fc51-408c-8204-bf9d63607ff0"
      },
      "execution_count": null,
      "outputs": [
        {
          "output_type": "stream",
          "name": "stdout",
          "text": [
            "tensor([[[0.6394, 0.6393],\n",
            "         [0.9879, 0.1512],\n",
            "         [0.8564, 0.9425]]])\n"
          ]
        }
      ]
    },
    {
      "cell_type": "code",
      "source": [
        "tensor_3[:, 0, 1] = 5\n",
        "tensor_3, tensor"
      ],
      "metadata": {
        "colab": {
          "base_uri": "https://localhost:8080/"
        },
        "id": "1G5jCMCHZjP3",
        "outputId": "c409d363-f33d-4ea2-860d-43cfab6fbb3c"
      },
      "execution_count": null,
      "outputs": [
        {
          "output_type": "execute_result",
          "data": {
            "text/plain": [
              "(tensor([[[0.6394, 5.0000],\n",
              "          [0.9879, 0.1512],\n",
              "          [0.8564, 0.9425]]]),\n",
              " tensor([[0.6394, 5.0000, 0.9879],\n",
              "         [0.1512, 0.8564, 0.9425]]))"
            ]
          },
          "metadata": {},
          "execution_count": 22
        }
      ]
    },
    {
      "cell_type": "markdown",
      "source": [
        "3. torch.stack(input, dim=) \\\n",
        "Explain: It can stack many same tensor together. The function of \"dim=\" is where the tensor repeat."
      ],
      "metadata": {
        "id": "G0dbCU0NbNFH"
      }
    },
    {
      "cell_type": "code",
      "source": [
        "a = torch.rand([1, 5])\n",
        "print(a)\n",
        "b = torch.stack([a, a, a], dim=0)\n",
        "print(b)\n",
        "c = torch.stack([a, a, a], dim=1)\n",
        "print(c)"
      ],
      "metadata": {
        "colab": {
          "base_uri": "https://localhost:8080/"
        },
        "id": "p-yYiLRHcHcV",
        "outputId": "e663d03c-ffba-46e3-b9ba-42ea8b5cb2e2"
      },
      "execution_count": null,
      "outputs": [
        {
          "output_type": "stream",
          "name": "stdout",
          "text": [
            "tensor([[0.0341, 0.4563, 0.3564, 0.3055, 0.0830]])\n",
            "tensor([[[0.0341, 0.4563, 0.3564, 0.3055, 0.0830]],\n",
            "\n",
            "        [[0.0341, 0.4563, 0.3564, 0.3055, 0.0830]],\n",
            "\n",
            "        [[0.0341, 0.4563, 0.3564, 0.3055, 0.0830]]])\n",
            "tensor([[[0.0341, 0.4563, 0.3564, 0.3055, 0.0830],\n",
            "         [0.0341, 0.4563, 0.3564, 0.3055, 0.0830],\n",
            "         [0.0341, 0.4563, 0.3564, 0.3055, 0.0830]]])\n"
          ]
        }
      ]
    },
    {
      "cell_type": "markdown",
      "source": [
        "4. torch.squeeze(input) \\\n",
        "Explain: remove all dimenions with value 1."
      ],
      "metadata": {
        "id": "yvMKCAQSomGV"
      }
    },
    {
      "cell_type": "code",
      "source": [
        "a = torch.rand([1, 1, 5, 1])\n",
        "print(a.shape)\n",
        "b = torch.squeeze(a)\n",
        "print(b.shape)"
      ],
      "metadata": {
        "colab": {
          "base_uri": "https://localhost:8080/"
        },
        "id": "dpnBAdcrqDpl",
        "outputId": "d64775b2-7953-4f94-90c2-517f128a93c8"
      },
      "execution_count": null,
      "outputs": [
        {
          "output_type": "stream",
          "name": "stdout",
          "text": [
            "torch.Size([1, 1, 5, 1])\n",
            "torch.Size([5])\n"
          ]
        }
      ]
    },
    {
      "cell_type": "markdown",
      "source": [
        "5. torch.unsqueeze(input, dim=) \\\n",
        "Explain: add dimenion of 1 in the location of \"dim=\"."
      ],
      "metadata": {
        "id": "4vuRTdQmqjYQ"
      }
    },
    {
      "cell_type": "code",
      "source": [
        "a = torch.rand([5])\n",
        "print(a.shape)\n",
        "b = torch.unsqueeze(a, dim=0)\n",
        "print(b.shape)"
      ],
      "metadata": {
        "colab": {
          "base_uri": "https://localhost:8080/"
        },
        "id": "gQdos1lAqsJl",
        "outputId": "511843da-2a5e-4913-dc3e-ff895d632cb1"
      },
      "execution_count": null,
      "outputs": [
        {
          "output_type": "stream",
          "name": "stdout",
          "text": [
            "torch.Size([5])\n",
            "torch.Size([1, 5])\n"
          ]
        }
      ]
    },
    {
      "cell_type": "markdown",
      "source": [
        "6. torch.permute(input, dims) \\\n",
        "Explain: It can change the order of dimenions of a tensor by using the index."
      ],
      "metadata": {
        "id": "zJkcyjmZsPEa"
      }
    },
    {
      "cell_type": "code",
      "source": [
        "a = torch.rand([1, 2, 3, 4])\n",
        "print(a.shape)\n",
        "b = a.permute(2, 1, 0, 3)\n",
        "print(b.shape)"
      ],
      "metadata": {
        "colab": {
          "base_uri": "https://localhost:8080/"
        },
        "id": "0bW7MW1BtdrX",
        "outputId": "beb384b8-24f9-48aa-efd4-21f3ea0f3b6b"
      },
      "execution_count": null,
      "outputs": [
        {
          "output_type": "stream",
          "name": "stdout",
          "text": [
            "torch.Size([1, 2, 3, 4])\n",
            "torch.Size([3, 2, 1, 4])\n"
          ]
        }
      ]
    },
    {
      "cell_type": "markdown",
      "source": [
        "## Other small section"
      ],
      "metadata": {
        "id": "9eMY6AVru16Q"
      }
    },
    {
      "cell_type": "markdown",
      "source": [
        "1. indexing \\\n",
        "Just like normal Python index."
      ],
      "metadata": {
        "id": "w9afYsKSu6Jt"
      }
    },
    {
      "cell_type": "code",
      "source": [
        "# Example\n",
        "a = torch.rand([1, 3, 3])\n",
        "print(a.shape)\n",
        "print(a[:, 0])\n",
        "print(a[:, 0, 1])"
      ],
      "metadata": {
        "colab": {
          "base_uri": "https://localhost:8080/"
        },
        "id": "JcuvNmjRrt72",
        "outputId": "53173fbd-307c-4db0-9cdb-1ab40679f671"
      },
      "execution_count": null,
      "outputs": [
        {
          "output_type": "stream",
          "name": "stdout",
          "text": [
            "torch.Size([1, 3, 3])\n",
            "tensor([[0.8725, 0.0416, 0.7346]])\n",
            "tensor([0.0416])\n"
          ]
        }
      ]
    },
    {
      "cell_type": "markdown",
      "source": [
        "2. Transfer between Pytorch tensors and NumPy \\\n",
        "If I want data with a specific dtype, I can firstly transfer them, and then change their type. \\\n",
        "Tip: Change the value of original one will not change the value of transferred one. "
      ],
      "metadata": {
        "id": "QnFYDjUz6Vrc"
      }
    },
    {
      "cell_type": "code",
      "source": [
        "array = np.arange(1, 8)\n",
        "tensor = torch.arange(2, 9)\n",
        "# transfer from array to tensor\n",
        "new_tensor = torch.from_numpy(array)\n",
        "print(new_tensor, new_tensor.dtype)\n",
        "# trannsfer from tensor to array\n",
        "new_array = tensor.numpy()\n",
        "print(new_array, new_array.dtype)"
      ],
      "metadata": {
        "colab": {
          "base_uri": "https://localhost:8080/"
        },
        "id": "WxS7Uy1d6cGQ",
        "outputId": "9ed17cd6-d253-4d4b-a701-1490b9aecedd"
      },
      "execution_count": null,
      "outputs": [
        {
          "output_type": "stream",
          "name": "stdout",
          "text": [
            "tensor([1., 2., 3., 4., 5., 6., 7.]) torch.float32\n",
            "[2 3 4 5 6 7 8] int64\n"
          ]
        }
      ]
    },
    {
      "cell_type": "markdown",
      "source": [
        "3. Reproducibility (torcg.manual_seed(seed=)) \\\n",
        "It can let we can always pick the same number when we random pick number.\n"
      ],
      "metadata": {
        "id": "Kz3O1lev9pAN"
      }
    },
    {
      "cell_type": "code",
      "source": [
        "a = torch.rand(2, 3)\n",
        "b = torch.rand(2, 3)\n",
        "print(a)\n",
        "print(b)"
      ],
      "metadata": {
        "colab": {
          "base_uri": "https://localhost:8080/"
        },
        "id": "2HQhTeN2Me_0",
        "outputId": "101b7d86-38ef-45dd-e7d6-309d1c665a92"
      },
      "execution_count": null,
      "outputs": [
        {
          "output_type": "stream",
          "name": "stdout",
          "text": [
            "tensor([[0.4525, 0.6317, 0.4760],\n",
            "        [0.2200, 0.2166, 0.2571]])\n",
            "tensor([[0.0458, 0.1755, 0.6177],\n",
            "        [0.8291, 0.5246, 0.2708]])\n"
          ]
        }
      ]
    },
    {
      "cell_type": "code",
      "source": [
        "torch.manual_seed(10)\n",
        "a = torch.rand(2, 3)\n",
        "torch.manual_seed(10)\n",
        "b = torch.rand(2, 3)\n",
        "print(a)\n",
        "print(b)"
      ],
      "metadata": {
        "colab": {
          "base_uri": "https://localhost:8080/"
        },
        "id": "Yp7pY0DYM8Uc",
        "outputId": "a7fb7bae-c36e-4095-f709-ac8eaa759198"
      },
      "execution_count": null,
      "outputs": [
        {
          "output_type": "stream",
          "name": "stdout",
          "text": [
            "tensor([[0.4581, 0.4829, 0.3125],\n",
            "        [0.6150, 0.2139, 0.4118]])\n",
            "tensor([[0.4581, 0.4829, 0.3125],\n",
            "        [0.6150, 0.2139, 0.4118]])\n"
          ]
        }
      ]
    },
    {
      "cell_type": "markdown",
      "source": [
        "3. running tensors on GPUs/CPUs\n",
        "the index of cuda also start at 0."
      ],
      "metadata": {
        "id": "Ciq7SB2dNZYA"
      }
    },
    {
      "cell_type": "code",
      "source": [
        "# Check GPU\n",
        "!nvidia-smi\n",
        "# Another way\n",
        "torch.cuda.is_available()"
      ],
      "metadata": {
        "colab": {
          "base_uri": "https://localhost:8080/"
        },
        "id": "ydMn-rvcOtRe",
        "outputId": "15627b9e-0973-4304-a483-d5b7e474e461"
      },
      "execution_count": null,
      "outputs": [
        {
          "output_type": "stream",
          "name": "stdout",
          "text": [
            "/bin/bash: nvidia-smi: command not found\n"
          ]
        },
        {
          "output_type": "execute_result",
          "data": {
            "text/plain": [
              "False"
            ]
          },
          "metadata": {},
          "execution_count": 27
        }
      ]
    },
    {
      "cell_type": "code",
      "source": [
        "# Set device type (cuda means gpu)\n",
        "device = \"cuda\" if torch.cuda.is_available() else \"cpu\"\n",
        "print(device)\n",
        "# count number of devices\n",
        "print(torch.cuda.device_count)\n"
      ],
      "metadata": {
        "colab": {
          "base_uri": "https://localhost:8080/"
        },
        "id": "KuzDAHpnO7OA",
        "outputId": "e1f39aa4-f3f1-4a24-9d04-133f1888eb7b"
      },
      "execution_count": null,
      "outputs": [
        {
          "output_type": "stream",
          "name": "stdout",
          "text": [
            "cpu\n",
            "<functools._lru_cache_wrapper object at 0x7f76d8340bf0>\n"
          ]
        }
      ]
    },
    {
      "cell_type": "code",
      "source": [
        "# If we have a gpu.\n",
        "tensor = torch.tensor([1, 2, 3])\n",
        "print(tensor, tensor.device)\n",
        "# putting data/models on the GPU(device = 'cuda')\n",
        "tensor_gpu = tensor.to(device)\n",
        "# move back to cpu\n",
        "tensor_back = tensor_gpu.cpu().numpy()\n",
        "# operation above just a copy of the tensor on GPU, so the original tensor is still on GPU right now."
      ],
      "metadata": {
        "id": "GvmWiReyXCVb"
      },
      "execution_count": null,
      "outputs": []
    },
    {
      "cell_type": "markdown",
      "source": [
        "# 01.PyTorch Workflow Fundamentals\n",
        "\n",
        "For create a model, there is a standard Pytorch workflow. \\\n",
        "1. Get data ready(transfer what you have to data)\n",
        "2. build or pick a pretrained model(suit my problem)(pick a loss function and optimizer; build a training loop)\n",
        "3. fit the model to the data and make a prediction \n",
        "4. evaluate the model\n",
        "5. improve through experimentation\n",
        "6. save and reload the trained model\n"
      ],
      "metadata": {
        "id": "gErVBLHiYQiB"
      }
    },
    {
      "cell_type": "markdown",
      "source": [
        "## 1. Data (preparing and loading)"
      ],
      "metadata": {
        "id": "pW_0fNOBYhBm"
      }
    },
    {
      "cell_type": "markdown",
      "source": [
        "For this practice, we just create some data"
      ],
      "metadata": {
        "id": "x2IF4JAmIBX3"
      }
    },
    {
      "cell_type": "code",
      "source": [
        "# create data\n",
        "weight = 0.9\n",
        "bias = 0.2\n",
        "\n",
        "start = 0 \n",
        "end = 1\n",
        "step = 0.02\n",
        "x = torch.arange(start, end, step).unsqueeze(dim=1)\n",
        "y = weight * x + bias\n",
        "print(x[:10])\n",
        "print(y[:10])"
      ],
      "metadata": {
        "colab": {
          "base_uri": "https://localhost:8080/"
        },
        "id": "5QvPiIIBJpfh",
        "outputId": "aa782f0d-02e8-4134-f4e3-d5daf81b8408"
      },
      "execution_count": null,
      "outputs": [
        {
          "output_type": "stream",
          "name": "stdout",
          "text": [
            "tensor([[0.0000],\n",
            "        [0.0200],\n",
            "        [0.0400],\n",
            "        [0.0600],\n",
            "        [0.0800],\n",
            "        [0.1000],\n",
            "        [0.1200],\n",
            "        [0.1400],\n",
            "        [0.1600],\n",
            "        [0.1800]])\n",
            "tensor([[0.2000],\n",
            "        [0.2180],\n",
            "        [0.2360],\n",
            "        [0.2540],\n",
            "        [0.2720],\n",
            "        [0.2900],\n",
            "        [0.3080],\n",
            "        [0.3260],\n",
            "        [0.3440],\n",
            "        [0.3620]])\n"
          ]
        }
      ]
    },
    {
      "cell_type": "markdown",
      "source": [
        "When we have data, we always use 80% data as training set; 10% as validation set; 10% as testing set."
      ],
      "metadata": {
        "id": "oKDYuYxeK91w"
      }
    },
    {
      "cell_type": "code",
      "source": [
        "split_point = int(len(x) * 0.8)\n",
        "x_training, y_training = x[:split_point], y[:split_point]\n",
        "x_testing, y_testing = x[split_point:], y[split_point:]"
      ],
      "metadata": {
        "id": "WT4JsH9-LWJc"
      },
      "execution_count": null,
      "outputs": []
    },
    {
      "cell_type": "code",
      "source": [
        "# visualize these data\n",
        "def plot_visualize(train_data = x_training,\n",
        "                   train_label = y_training,\n",
        "                   test_data = x_testing,\n",
        "                   test_label = y_testing,\n",
        "                   prediction = None):\n",
        "  plt.figure(figsize=(10, 7))\n",
        "  plt.scatter(train_data, train_label, s = 4, c = 'b', label = 'Training data')\n",
        "  plt.scatter(test_data, test_label, s = 4, c = 'g', label = 'Testing data')\n",
        "  if prediction is not None:\n",
        "    plt.scatter(test_data, prediction, s = 4, c = 'r', label = 'Prediction data')\n",
        "  \n",
        "  # Show the legend\n",
        "  plt.legend(prop = {\"size\":15})\n",
        "\n",
        "plot_visualize()"
      ],
      "metadata": {
        "colab": {
          "base_uri": "https://localhost:8080/",
          "height": 599
        },
        "id": "9UZlntYoMA14",
        "outputId": "f69331bd-4e6c-4f8d-f885-4a285b95477d"
      },
      "execution_count": null,
      "outputs": [
        {
          "output_type": "display_data",
          "data": {
            "text/plain": [
              "<Figure size 1000x700 with 1 Axes>"
            ],
            "image/png": "[encoded data removed]"
          },
          "metadata": {}
        }
      ]
    },
    {
      "cell_type": "markdown",
      "source": [
        "## 2. Create a model"
      ],
      "metadata": {
        "id": "6x4vXzkJOmdn"
      }
    },
    {
      "cell_type": "code",
      "source": [
        "class LinearRegressionModel(nn.Module):\n",
        "  def __init__(self):\n",
        "    super().__init__()\n",
        "    # initialize model parameters\n",
        "    self.weights = nn.Parameter(torch.randn(1, dtype=torch.float, requires_grad=True))\n",
        "    self.bias = nn.Parameter(torch.randn(1, dtype=torch.float, requires_grad = True))\n",
        "\n",
        "  def forward(self, data:torch.tensor) -> torch.tensor:\n",
        "    label = self.weights * data + self.bias\n",
        "    return label"
      ],
      "metadata": {
        "id": "bOwoBbX-QwbA"
      },
      "execution_count": null,
      "outputs": []
    },
    {
      "cell_type": "markdown",
      "source": [
        "Above is a Pytorch model, it has four essential factors. \\\n",
        "1. torch.nn: contain all of the building blacks for computational graphs\n",
        "2. torch.nn.Parameter: stores tensors that can be used with nn.Module. If required_grad=True, the parameter can change automaticlly.\n",
        "3. torch.nn.Module: the basic class for all neural network modules. It need forword() to implement it.\n",
        "4. torch.optim: contain various optimize algorithms(these tell the model parameter how to best change to improve gradient descent)\n",
        "5. def forward(): all nn.nodule subclass need this function to implement.\n"
      ],
      "metadata": {
        "id": "e8LvjcHmUgRH"
      }
    },
    {
      "cell_type": "code",
      "source": [
        "# check the contain of this module\n",
        "torch.manual_seed(42)\n",
        "model_0 = LinearRegressionModel()\n",
        "#this might be a function of nn.module\n",
        "print(list(model_0.parameters()))\n",
        "# see what the model contains\n",
        "model_0.state_dict()"
      ],
      "metadata": {
        "colab": {
          "base_uri": "https://localhost:8080/"
        },
        "id": "RZZEo1X8Z3BN",
        "outputId": "d2eda962-bfdd-49b9-ddca-4bf54aa6addc"
      },
      "execution_count": null,
      "outputs": [
        {
          "output_type": "stream",
          "name": "stdout",
          "text": [
            "[Parameter containing:\n",
            "tensor([0.3367], requires_grad=True), Parameter containing:\n",
            "tensor([0.1288], requires_grad=True)]\n"
          ]
        },
        {
          "output_type": "execute_result",
          "data": {
            "text/plain": [
              "OrderedDict([('weights', tensor([0.3367])), ('bias', tensor([0.1288]))])"
            ]
          },
          "metadata": {},
          "execution_count": 27
        }
      ]
    },
    {
      "cell_type": "markdown",
      "source": [
        "Now, the weights and bias is random, we can just use this data to try to predict the model."
      ],
      "metadata": {
        "id": "cNfkay2TdOu9"
      }
    },
    {
      "cell_type": "code",
      "source": [
        "# this is essential when you want to make orediction\n",
        "# 'with' means context of sth.\n",
        "# by torch.inference_mode, it turns off a bunch of things, e.g. grandient tracking, it's a mode just for inference\n",
        "with torch.inference_mode():\n",
        "  y_preds = model_0(x_testing)\n",
        "\n",
        "plot_visualize(prediction=y_preds)"
      ],
      "metadata": {
        "colab": {
          "base_uri": "https://localhost:8080/",
          "height": 599
        },
        "id": "9lCq91o2d-kA",
        "outputId": "c8599d0b-32e1-45ad-b7f9-ea571c3b7c65"
      },
      "execution_count": null,
      "outputs": [
        {
          "output_type": "display_data",
          "data": {
            "text/plain": [
              "<Figure size 1000x700 with 1 Axes>"
            ],
            "image/png": "[encoded data removed]"
          },
          "metadata": {}
        }
      ]
    },
    {
      "cell_type": "markdown",
      "source": [
        "## 3. Train Model"
      ],
      "metadata": {
        "id": "ixol0xGEmd4T"
      }
    },
    {
      "cell_type": "code",
      "source": [],
      "metadata": {
        "id": "fpj-6TcXmjRj"
      },
      "execution_count": null,
      "outputs": []
    }
  ]
}